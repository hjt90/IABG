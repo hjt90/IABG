{
 "cells": [
  {
   "cell_type": "code",
   "execution_count": 1,
   "metadata": {},
   "outputs": [],
   "source": [
    "# 读取json文件\n",
    "import json\n",
    "import os\n",
    "\n",
    "dataset = 'food'\n",
    "path = os.path.join('data', dataset, 'bundle_intent_token.json')\n",
    "\n",
    "data = json.load(open(path, 'r', encoding='utf-8'))"
   ]
  },
  {
   "cell_type": "code",
   "execution_count": 2,
   "metadata": {},
   "outputs": [
    {
     "name": "stdout",
     "output_type": "stream",
     "text": [
      "371 5291\n",
      "0 3\n"
     ]
    }
   ],
   "source": [
    "# 计算最大的query长度与数量\n",
    "\n",
    "max_str_len = 0\n",
    "min_str_len = 1000\n",
    "max_size = 0\n",
    "min_size = 1000\n",
    "\n",
    "# 清理空str\n",
    "for item in data:\n",
    "    item['tokens'] = [token for token in item['tokens'] if len(token) > 0]\n",
    "    \n",
    "\n",
    "for item in data:\n",
    "    max_size = max(max_size, len(item['tokens']))\n",
    "    min_size = min(min_size, len(item['tokens']))\n",
    "    for token in item['tokens']:\n",
    "        max_str_len = max(max_str_len, len(token))\n",
    "        min_str_len = min(min_str_len, len(token))\n",
    "        \n",
    "print(max_size, max_str_len)\n",
    "print(min_size, min_str_len)"
   ]
  },
  {
   "cell_type": "code",
   "execution_count": 3,
   "metadata": {},
   "outputs": [],
   "source": [
    "# 最大长度256截断成多份\n",
    "for item in data:\n",
    "    for token in item['tokens']:\n",
    "        if len(token) > 256:\n",
    "            item['tokens'].remove(token)\n",
    "            # token分成多份，每份长度256\n",
    "            tokens = [token[i:i+256] for i in range(0, len(token), 256)]\n",
    "            item['tokens'].extend(tokens)\n",
    "                        "
   ]
  },
  {
   "cell_type": "code",
   "execution_count": 5,
   "metadata": {},
   "outputs": [],
   "source": [
    "# 每个intention5个query，多的截断，少的用intention补齐\n",
    "\n",
    "for item in data:\n",
    "    item['tokens'] = [item['tokens'][i] for i in range(min(len(item['tokens']),5))]\n",
    "    item['tokens'].extend([item['intent']] * (5 - len(item['tokens'])))"
   ]
  },
  {
   "cell_type": "code",
   "execution_count": 6,
   "metadata": {},
   "outputs": [
    {
     "name": "stdout",
     "output_type": "stream",
     "text": [
      "5 256\n",
      "5 1\n"
     ]
    }
   ],
   "source": [
    "# 计算最大的query长度与数量\n",
    "\n",
    "max_str_len = 0\n",
    "min_str_len = 1000\n",
    "max_size = 0\n",
    "min_size = 1000\n",
    "\n",
    "for item in data:\n",
    "    max_size = max(max_size, len(item['tokens']))\n",
    "    min_size = min(min_size, len(item['tokens']))\n",
    "    for token in item['tokens']:\n",
    "        max_str_len = max(max_str_len, len(token))\n",
    "        min_str_len = min(min_str_len, len(token))\n",
    "        \n",
    "print(max_size, max_str_len)\n",
    "print(min_size, min_str_len)"
   ]
  },
  {
   "cell_type": "code",
   "execution_count": 7,
   "metadata": {},
   "outputs": [],
   "source": [
    "# 保存到文件\n",
    "save_path = os.path.join('data', dataset, 'bundle_intent_query.json')\n",
    "json.dump(data, open(save_path, 'w', encoding='utf-8'), ensure_ascii=False)"
   ]
  }
 ],
 "metadata": {
  "kernelspec": {
   "display_name": "ChatGLM",
   "language": "python",
   "name": "python3"
  },
  "language_info": {
   "codemirror_mode": {
    "name": "ipython",
    "version": 3
   },
   "file_extension": ".py",
   "mimetype": "text/x-python",
   "name": "python",
   "nbconvert_exporter": "python",
   "pygments_lexer": "ipython3",
   "version": "3.7.16"
  },
  "orig_nbformat": 4
 },
 "nbformat": 4,
 "nbformat_minor": 2
}
